import numpy as np
import pandas as pd
import holoviews as hv # for plotting
import panel as pn # for widgets
from datetime import datetime # for converting dates, for widgets
import iqplot # plotting packages
import matplotlib.pyplot as plt # for plotting

# for plotting, more interactive
import bokeh.io
import bokeh.plotting
from bokeh.models import ColumnDataSource

bokeh.io.output_notebook() # lets you display plots made using bokeh
hv.extension("bokeh") # Lets you display plots using holoviews, which uses bokeh, much simpler code
pn.extension() # Lets you display widgets and dashboards made using panel
Loading BokehJS ...

Import the data into a DataFrame.

df_allcases = pd.read_excel(r'C:/Users/scaldera/Desktop/R Projects/jynneos_ve_model/data/VaxAnalysisByRoute.xlsx', sheet_name='AllCases')
df_allcases = df_allcases.drop(columns=['LastName', 'FirstName', 'MiddleName'])

#df_byRoute = pd.read_excel(r'C:/Users/scaldera/Desktop/R Projects/jynneos_ve_model/data/VaxAnalysisByRoute.xlsx', sheet_name='byRoute')
df_vax = pd.read_excel(r'C:/Users/scaldera/Desktop/R Projects/jynneos_ve_model/data/VaxAnalysisByRoute.xlsx', sheet_name='Vax')
df_merge = pd.read_excel(r'C:/Users/scaldera/Desktop/R Projects/jynneos_ve_model/data/VaxAnalysisByRoute.xlsx', sheet_name='Merge')
Calculating table values.
Count all vaccinated cases.

vax_case_SQ1 = sum((df_merge['DaysSinceDose1'] >= 14) &
                   (df_merge['Sex'] == 'M') &
                  ((df_merge['Age'] >= 18) & (df_merge['Age'] <= 49)) &
                   (df_merge['Dose1Route'] == 'C38299') &
                   (df_merge['Dose2Route'].isna()))

vax_case_SQ2 = sum((df_merge['DaysSinceDose2'] >= 14) &
                   (df_merge['Sex'] == 'M') &
                  ((df_merge['Age'] >= 18) & (df_merge['Age'] <= 49)) &
                   (df_merge['Dose1Route'] == 'C38299') &
                   (df_merge['Dose2Route'] == 'C38299'))

vax_case_ID1 = sum((df_merge['DaysSinceDose1'] >= 14) &
                   (df_merge['Sex'] == 'M') &
                  ((df_merge['Age'] >= 18) & (df_merge['Age'] <= 49)) &
                   (df_merge['Dose1Route'] == 'C38238') &
                   (df_merge['Dose2Route'].isna()))

vax_case_ID2 = sum((df_merge['DaysSinceDose2'] >= 14) &
                   (df_merge['Sex'] == 'M') &
                  ((df_merge['Age'] >= 18) & (df_merge['Age'] <= 49)) &
                   (df_merge['Dose1Route'] == 'C38238') &
                   (df_merge['Dose2Route'] == 'C38238'))

vax_case_SQID= sum((df_merge['DaysSinceDose2'] >= 14) &
                   (df_merge['Sex'] == 'M') &
                  ((df_merge['Age'] >= 18) & (df_merge['Age'] <= 49)) &
                  ((df_merge['Dose1Route'] == 'C38238') & (df_merge['Dose2Route'] == 'C38299') |
                   (df_merge['Dose1Route'] == 'C38299') & (df_merge['Dose2Route'] == 'C38238')))

vax_case_overall = sum([vax_case_SQ1, vax_case_SQ2, vax_case_ID1, vax_case_ID2, vax_case_SQID])
Count all vaccinated people.

df_vax.rename(columns = {'VAX_ROUTE':'VAX_ROUTE_2'}, inplace = True)
vax_SQ1 = sum((df_vax['DS1_ADMIN_DATE'] >= '2022-05-26') &
              (df_vax['RECIP_SEX'] == 'M') &
              (df_vax['RECIP_AGE'] >= 18) & (df_vax['RECIP_AGE'] <= 49) &
              (df_vax['VAX_ROUTE_1'] == 'C38299') & (df_vax['VAX_ROUTE_2'].isna()))


vax_SQ2 = sum((df_vax['DS1_ADMIN_DATE'] >= '2022-05-26') &
              (df_vax['RECIP_SEX'] == 'M') &
              (df_vax['RECIP_AGE'] >= 18) & (df_vax['RECIP_AGE'] <= 49) &
              (df_vax['VAX_ROUTE_1'] == 'C38299') & (df_vax['VAX_ROUTE_2'] == 'C38299'))


vax_ID1 = sum((df_vax['DS1_ADMIN_DATE'] >= '2022-05-26') & (df_vax['VAX_ROUTE_1'] == 'C38238') &
              (df_vax['RECIP_SEX'] == 'M') &
              (df_vax['RECIP_AGE'] >= 18) & (df_vax['RECIP_AGE'] <= 49) &
              (df_vax['VAX_ROUTE_2'].isna()))


vax_ID2 = sum((df_vax['DS1_ADMIN_DATE'] >= '2022-05-26') & (df_vax['VAX_ROUTE_1'] == 'C38238') &
              (df_vax['RECIP_SEX'] == 'M') &
              (df_vax['RECIP_AGE'] >= 18) & (df_vax['RECIP_AGE'] <= 49) &
              (df_vax['VAX_ROUTE_2'] == 'C38238'))


vax_SQID= sum((df_vax['DS1_ADMIN_DATE'] >= '2022-05-26') &
              (df_vax['RECIP_SEX'] == 'M') &
              (df_vax['RECIP_AGE'] >= 18) & (df_vax['RECIP_AGE'] <= 49) &
              ((df_vax['VAX_ROUTE_1'] == 'C38238') & (df_vax['VAX_ROUTE_2'] == 'C38299') |
              (df_vax['VAX_ROUTE_1'] == 'C38299') & (df_vax['VAX_ROUTE_2'] == 'C38238')))


vax_overall = sum([vax_SQ1, vax_SQ2, vax_ID1, vax_ID2, vax_SQID])
Count unvaccinated cases. (unvaccinated cases = + for mpox, male b/w 18-49, no record of vaccine after 5/26/22, or a case occuring < 14 days after vax)

no_vax_record = len(df_allcases) - len(df_merge)

unvax_case_overall = sum(((df_merge['DaysSinceDose1'] < 14) | (df_merge['DaysSinceDose1'].isna())) &
                          (df_merge['Sex'] == 'M') &
                         ((df_merge['Age'] >= 18) & (df_merge['Age'] <= 49))) + no_vax_record
Create a DataFrame, df, and fill it in with all values above.

at_risk_pop = 700000

d = {'ROA': ['SQ1', 'SQ2', 'ID1', 'ID2', 'SQID', 'Overall'],
     'Vaccinated Cases': [vax_case_SQ1, vax_case_SQ2, vax_case_ID1, vax_case_ID2, vax_case_SQID, vax_case_overall],
     'Unvaccinated Cases': [0, 0, 0, 0, 0, unvax_case_overall],
     'Vaccinated': [vax_SQ1, vax_SQ2, vax_ID1, vax_ID2, vax_SQID, vax_overall],
     'Unvaccinated': [0, 0, 0, 0, 0, at_risk_pop-vax_overall],
    }

df = pd.DataFrame(data=d)
df['IRR'] = (unvax_case_overall/(at_risk_pop-vax_overall) / (df['Vaccinated Cases']/df['Vaccinated']))
#instead of all vaccinated cases, count # weeks have been vaccinated.  
df['VE'] = 1 - (1 / df['IRR'])

df
ROA	Vaccinated Cases	Unvaccinated Cases	Vaccinated	Unvaccinated	IRR	VE
0	SQ1	185	0	19798	0	0.898971	-0.112383
1	SQ2	10	0	5134	0	4.312726	0.768128
2	ID1	100	0	21121	0	1.774232	0.436376
3	ID2	3	0	21039	0	58.911463	0.983025
4	SQID	17	0	35550	0	17.566557	0.943074
5	Overall	315	5018	102642	597358	2.737225	0.634667
Create a function that outputs summary table above for a given at_risk_pop value.
# Define parameters
dose1_admin_date = '2022-05-26' # Start date for earliest dose 1 vaccine
last_date = '2023-01-11' # Last date in spreadsheet; control (shouldn't change anything yet)
days_since_dose1 = 14
min_age = 18
max_age = 49
gender = 'M'

# Define your range for at-risk widget
increments = 100_000
min_value = 100_000
max_value = 1_000_000
default_value = 700_000
# dose1_admin_date = datetime_range_picker.value[0].strftime('%Y-%m-%d'),
# last_date = datetime_range_picker.value[1].strftime('%Y-%m-%d'),
Widget starts here.
# Create slider widgets for at_risk_pop and age range
at_risk_pop_slider = pn.widgets.IntSlider(name='At-risk Population', start=min_value, end=max_value, step=increments, value=default_value)
age_range_slider = pn.widgets.IntRangeSlider(name='Age', start=int(df_merge['Age'].min()), end=int(df_merge['Age'].max()), value=(min_age, max_age), step=1)

# Create date range widget
# dose1_admin_date_obj = datetime.strptime(dose1_admin_date, '%Y-%m-%d')
# last_date_obj = datetime.strptime(last_date, '%Y-%m-%d')
dose1_admin_date_obj = pd.to_datetime(dose1_admin_date)
last_date_obj = pd.to_datetime(last_date)
datetime_range_picker = pn.widgets.DatetimeRangePicker(name='Datetime Range Picker', value=(dose1_admin_date_obj, last_date_obj))


#this part makes summ table data udpate based on the value defined in the widgets
@pn.depends(at_risk_pop = at_risk_pop_slider.param.value,
#             dose1_admin_date = str(datetime_range_picker.value[0]), ############################### Comment this out to work
#             last_date = str(datetime_range_picker.value[1]), ############################### Comment this out to work
#             min_age = age_range_slider.param.value[0],
#             max_age = age_range_slider.value[1],
           )
def summary_table(at_risk_pop): # start of the function
    ###
    # Count all vaccinated cases
    vax_case_SQ1 = sum((df_merge['DaysSinceDose1'] >= days_since_dose1) &
                       (df_merge['Sex'] == gender) &
                      ((df_merge['Age'] >= min_age) & (df_merge['Age'] <= max_age)) &
                       (df_merge['Dose1Route'] == 'C38299') &
                       (df_merge['Dose2Route'].isna()))

    vax_case_SQ2 = sum((df_merge['DaysSinceDose2'] >= days_since_dose1) &
                       (df_merge['Sex'] == gender) &
                      ((df_merge['Age'] >= min_age) & (df_merge['Age'] <= max_age)) &
                       (df_merge['Dose1Route'] == 'C38299') &
                       (df_merge['Dose2Route'] == 'C38299'))

    vax_case_ID1 = sum((df_merge['DaysSinceDose1'] >= days_since_dose1) &
                       (df_merge['Sex'] == gender) &
                      ((df_merge['Age'] >= min_age) & (df_merge['Age'] <= max_age)) &
                       (df_merge['Dose1Route'] == 'C38238') &
                       (df_merge['Dose2Route'].isna()))

    vax_case_ID2 = sum((df_merge['DaysSinceDose2'] >= days_since_dose1) &
                       (df_merge['Sex'] == gender) &
                      ((df_merge['Age'] >= min_age) & (df_merge['Age'] <= max_age)) &
                       (df_merge['Dose1Route'] == 'C38238') &
                       (df_merge['Dose2Route'] == 'C38238'))

    vax_case_SQID= sum((df_merge['DaysSinceDose2'] >= days_since_dose1) &
                       (df_merge['Sex'] == gender) &
                      ((df_merge['Age'] >= min_age) & (df_merge['Age'] <= max_age)) &
                      ((df_merge['Dose1Route'] == 'C38238') & (df_merge['Dose2Route'] == 'C38299') |
                       (df_merge['Dose1Route'] == 'C38299') & (df_merge['Dose2Route'] == 'C38238')))

    vax_case_overall = sum([vax_case_SQ1, vax_case_SQ2, vax_case_ID1, vax_case_ID2, vax_case_SQID])

    # Count all vaccinated people
    df_vax.rename(columns = {'VAX_ROUTE':'VAX_ROUTE_2'}, inplace = True)

    vax_SQ1 = sum((df_vax['DS1_ADMIN_DATE'] >= dose1_admin_date) & (df_vax['DS1_ADMIN_DATE'] <= last_date) & #################
                  (df_vax['RECIP_SEX'] == gender) &
                  (df_vax['RECIP_AGE'] >= min_age) & (df_vax['RECIP_AGE'] <= max_age) &
                  (df_vax['VAX_ROUTE_1'] == 'C38299') & (df_vax['VAX_ROUTE_2'].isna()))


    vax_SQ2 = sum((df_vax['DS1_ADMIN_DATE'] >= dose1_admin_date) & (df_vax['DS1_ADMIN_DATE'] <= last_date) &
                  (df_vax['RECIP_SEX'] == gender) &
                  (df_vax['RECIP_AGE'] >= min_age) & (df_vax['RECIP_AGE'] <= max_age) &
                  (df_vax['VAX_ROUTE_1'] == 'C38299') & (df_vax['VAX_ROUTE_2'] == 'C38299'))


    vax_ID1 = sum((df_vax['DS1_ADMIN_DATE'] >= dose1_admin_date) & (df_vax['DS1_ADMIN_DATE'] <= last_date) &
                  (df_vax['VAX_ROUTE_1'] == 'C38238') &
                  (df_vax['RECIP_SEX'] == gender) &
                  (df_vax['RECIP_AGE'] >= min_age) & (df_vax['RECIP_AGE'] <= max_age) &
                  (df_vax['VAX_ROUTE_2'].isna()))


    vax_ID2 = sum((df_vax['DS1_ADMIN_DATE'] >= dose1_admin_date) & (df_vax['DS1_ADMIN_DATE'] <= last_date) &
                  (df_vax['VAX_ROUTE_1'] == 'C38238') &
                  (df_vax['RECIP_SEX'] == gender) &
                  (df_vax['RECIP_AGE'] >= min_age) & (df_vax['RECIP_AGE'] <= max_age) &
                  (df_vax['VAX_ROUTE_2'] == 'C38238'))


    vax_SQID= sum((df_vax['DS1_ADMIN_DATE'] >= dose1_admin_date) & (df_vax['DS1_ADMIN_DATE'] <= last_date) & #################
                  (df_vax['RECIP_SEX'] == gender) &
                  (df_vax['RECIP_AGE'] >= min_age) & (df_vax['RECIP_AGE'] <= max_age) &
                  ((df_vax['VAX_ROUTE_1'] == 'C38238') & (df_vax['VAX_ROUTE_2'] == 'C38299') |
                  (df_vax['VAX_ROUTE_1'] == 'C38299') & (df_vax['VAX_ROUTE_2'] == 'C38238')))


    vax_overall = sum([vax_SQ1, vax_SQ2, vax_ID1, vax_ID2, vax_SQID])

    # Count unvaccinated cases
    no_vax_record = len(df_allcases) - len(df_merge)

    unvax_case_overall = sum(((df_merge['DaysSinceDose1'] < days_since_dose1) | (df_merge['DaysSinceDose1'].isna())) &
                              (df_merge['Sex'] == gender) &
                             ((df_merge['Age'] >= min_age) & (df_merge['Age'] <= max_age))) + no_vax_record
    ###
    
    
    # Create a dictionary `d` defining column titles and data
    d = {'ROA': ['SQ1', 'SQ2', 'ID1', 'ID2', 'SQID', 'Overall'],
         'Vaccinated Cases': [vax_case_SQ1, vax_case_SQ2, vax_case_ID1, vax_case_ID2, vax_case_SQID, vax_case_overall],
         'Unvaccinated Cases': [0, 0, 0, 0, 0, unvax_case_overall],
         'Vaccinated': [vax_SQ1, vax_SQ2, vax_ID1, vax_ID2, vax_SQID, vax_overall],
         'Unvaccinated': [0, 0, 0, 0, 0, at_risk_pop-vax_overall],
        }
    
    # Put dictionary into a DataFrame
    df = pd.DataFrame(data=d)
    
    # Create columns for IRR and VE
    df['IRR'] = (unvax_case_overall/(at_risk_pop-vax_overall) / (df['Vaccinated Cases']/df['Vaccinated']))
    # Instead of all vaccinated cases, count # weeks have been vaccinated.  
    df['VE'] = 1 - (1 / df['IRR'])
    df['at_risk_pop'] = at_risk_pop
    
    df = df.round(2) # Rounding all values to nearest 2 decimal points
#     ROA = df['ROA']
#     VE = df['VE']
    
    # Plot results, bar graph
    p = bokeh.plotting.figure(x_range=df['ROA'], y_range=[0, 1], width=600, height=250,
                              title=f"Vaccine Effectiveness by ROA, for an at risk population of {at_risk_pop:,}",
                              toolbar_location=None, tools="")
    p.vbar(x=df['ROA'], top=df['VE'], width=0.5)
    p.xgrid.grid_line_color = None
    
    return pn.Column(pn.widgets.DataFrame(df, name='DataFrame'), pn.pane.Bokeh(p, theme='light_minimal'))


# @pn.depends(at_risk_pop = at_risk_pop_slider.param.value)
# def strip_plot(at_risk_pop):
#     p_strip = iqplot.strip(data=summary_table(at_risk_pop), q='VE', cats='ROA', title='Vaccine Effectiveness (VE)')
#     return bokeh.io.show(p_strip)


# @pn.depends(at_risk_pop = at_risk_pop_slider.param.value)
# def bar_plot(at_risk_pop):
#     df = summary_table(at_risk_pop)
#     ROA = df['ROA']
#     VE = df['VE']
#     p = bokeh.plotting.figure(x_range=ROA, y_range=[0, 1], height=350, title=f"Vaccine Effectiveness by ROA, for an at risk population of {at_risk_pop}", toolbar_location=None, tools="")
#     p.vbar(x=ROA, top=VE, width=0.5)
#     p.xgrid.grid_line_color = None
#     return bokeh.io.show(p)


# Dashboard
widgets = pn.Row(at_risk_pop_slider, width=200)
pn.Column(widgets,
          summary_table,
#           bar_plot,
          background='WhiteSmoke'
         )
dose1_admin_date_obj = datetime.strptime(dose1_admin_date, '%Y-%m-%d')
last_date_obj = datetime.strptime(last_date, '%Y-%m-%d')

datetime_range_picker = pn.widgets.DatetimeRangePicker(name='Datetime Range Picker', value=(dose1_admin_date_obj, last_date_obj))

datetime_range_picker
age_range_slider = pn.widgets.IntRangeSlider(name='Age', start=int(df_merge['Age'].min()), end=int(df_merge['Age'].max()), value=(min_age, max_age), step=1)
age_range_slider
 
VE over time
# Define parameters
dose1_admin_date = '2022-05-26'##look at using august1
last_date = '2023-01-11' # Last date in spreadsheet; control (shouldn't change anything yet)
days_since_dose1 = 14
min_age = 18
max_age = 49
gender = 'M'

# Define your range for at-risk widget
at_risk_pop = 700_000
# Define start and end dates as datetime objects
dose1_admin_date = pd.to_datetime('2022-05-26') ##look at using august1
# last_date = pd.to_datetime('2023-01-11')
latest_date = df['Date'].max()

# Calculate the number of weeks between the start and latest dates
num_weeks = int(pd.Timedelta(latest_date - dose1_admin_date).days / 7) + 1

df_hold = pd.DataFrame() # Empty dataframe to hold the values for each date range as the loop below iterates


# Loop over each date in the range and calculate new values

for i in range(0, num_weeks):
    # Calculate the last date for the iteration
    last_date = dose1_admin_date + pd.offsets.Week(i)
    
    # Create a range of dates between start and last dates
    date_range = pd.date_range(start=dose1_admin_date,
                              end=last_date,
                              freq='7D')

    for date in date_range:
        # Calculate everything to compute VE for a given date range
        vax_case_SQ1 = sum((df_merge['DaysSinceDose1'] >= days_since_dose1) &
                           (df_merge['Sex'] == gender) &
                          ((df_merge['Age'] >= min_age) & (df_merge['Age'] <= max_age)) &
                           (df_merge['Dose1Route'] == 'C38299') &
                           (df_merge['Dose2Route'].isna()))

        vax_case_SQ2 = sum((df_merge['DaysSinceDose2'] >= days_since_dose1) &
                           (df_merge['Sex'] == gender) &
                          ((df_merge['Age'] >= min_age) & (df_merge['Age'] <= max_age)) &
                           (df_merge['Dose1Route'] == 'C38299') &
                           (df_merge['Dose2Route'] == 'C38299'))

        vax_case_ID1 = sum((df_merge['DaysSinceDose1'] >= days_since_dose1) &
                           (df_merge['Sex'] == gender) &
                          ((df_merge['Age'] >= min_age) & (df_merge['Age'] <= max_age)) &
                           (df_merge['Dose1Route'] == 'C38238') &
                           (df_merge['Dose2Route'].isna()))

        vax_case_ID2 = sum((df_merge['DaysSinceDose2'] >= days_since_dose1) &
                           (df_merge['Sex'] == gender) &
                          ((df_merge['Age'] >= min_age) & (df_merge['Age'] <= max_age)) &
                           (df_merge['Dose1Route'] == 'C38238') &
                           (df_merge['Dose2Route'] == 'C38238'))

        vax_case_SQID= sum((df_merge['DaysSinceDose2'] >= days_since_dose1) &
                           (df_merge['Sex'] == gender) &
                          ((df_merge['Age'] >= min_age) & (df_merge['Age'] <= max_age)) &
                          ((df_merge['Dose1Route'] == 'C38238') & (df_merge['Dose2Route'] == 'C38299') |
                           (df_merge['Dose1Route'] == 'C38299') & (df_merge['Dose2Route'] == 'C38238')))

        vax_case_overall = sum([vax_case_SQ1, vax_case_SQ2, vax_case_ID1, vax_case_ID2, vax_case_SQID])

        # Count all vaccinated people
        df_vax.rename(columns = {'VAX_ROUTE':'VAX_ROUTE_2'}, inplace = True)

        vax_SQ1 = sum((df_vax['DS1_ADMIN_DATE'] >= dose1_admin_date) & (df_vax['DS1_ADMIN_DATE'] <= last_date) & #################
                      (df_vax['RECIP_SEX'] == gender) &
                      (df_vax['RECIP_AGE'] >= min_age) & (df_vax['RECIP_AGE'] <= max_age) &
                      (df_vax['VAX_ROUTE_1'] == 'C38299') & (df_vax['VAX_ROUTE_2'].isna())) 
        ##find # days person has been vaccinated and last date. sum up diff b/w last date and day vaccinated date diff among all people, date vaccinated
        


        vax_SQ2 = sum((df_vax['DS1_ADMIN_DATE'] >= dose1_admin_date) & (df_vax['DS1_ADMIN_DATE'] <= last_date) &
                      (df_vax['RECIP_SEX'] == gender) &
                      (df_vax['RECIP_AGE'] >= min_age) & (df_vax['RECIP_AGE'] <= max_age) &
                      (df_vax['VAX_ROUTE_1'] == 'C38299') & (df_vax['VAX_ROUTE_2'] == 'C38299'))


        vax_ID1 = sum((df_vax['DS1_ADMIN_DATE'] >= dose1_admin_date) & (df_vax['DS1_ADMIN_DATE'] <= last_date) &
                      (df_vax['VAX_ROUTE_1'] == 'C38238') &
                      (df_vax['RECIP_SEX'] == gender) &
                      (df_vax['RECIP_AGE'] >= min_age) & (df_vax['RECIP_AGE'] <= max_age) &
                      (df_vax['VAX_ROUTE_2'].isna()))


        vax_ID2 = sum((df_vax['DS1_ADMIN_DATE'] >= dose1_admin_date) & (df_vax['DS1_ADMIN_DATE'] <= last_date) &
                      (df_vax['VAX_ROUTE_1'] == 'C38238') &
                      (df_vax['RECIP_SEX'] == gender) &
                      (df_vax['RECIP_AGE'] >= min_age) & (df_vax['RECIP_AGE'] <= max_age) &
                      (df_vax['VAX_ROUTE_2'] == 'C38238'))


        vax_SQID= sum((df_vax['DS1_ADMIN_DATE'] >= dose1_admin_date) & (df_vax['DS1_ADMIN_DATE'] <= last_date) & #################
                      (df_vax['RECIP_SEX'] == gender) &
                      (df_vax['RECIP_AGE'] >= min_age) & (df_vax['RECIP_AGE'] <= max_age) &
                      ((df_vax['VAX_ROUTE_1'] == 'C38238') & (df_vax['VAX_ROUTE_2'] == 'C38299') |
                      (df_vax['VAX_ROUTE_1'] == 'C38299') & (df_vax['VAX_ROUTE_2'] == 'C38238')))


        vax_overall = sum([vax_SQ1, vax_SQ2, vax_ID1, vax_ID2, vax_SQID])

        # Count unvaccinated cases
        no_vax_record = len(df_allcases) - len(df_merge)

        unvax_case_overall = sum(((df_merge['DaysSinceDose1'] < days_since_dose1) | (df_merge['DaysSinceDose1'].isna())) &
                                  (df_merge['Sex'] == gender) &
                                 ((df_merge['Age'] >= min_age) & (df_merge['Age'] <= max_age))) + no_vax_record
        ###difference b/w days unvaccinated, 
        
        ##incorporate 14d lag, look at 14d after been vaccinated, anything between 0-14d vax = unvaccinated time


        # Create a dictionary `d` defining column titles and data
        d = {'ROA': ['SQ1', 'SQ2', 'ID1', 'ID2', 'SQID', 'Overall'],
             'Vaccinated Cases': [vax_case_SQ1, vax_case_SQ2, vax_case_ID1, vax_case_ID2, vax_case_SQID, vax_case_overall],
             'Unvaccinated Cases': [0, 0, 0, 0, 0, unvax_case_overall],
             'Vaccinated': [vax_SQ1, vax_SQ2, vax_ID1, vax_ID2, vax_SQID, vax_overall],
             'Unvaccinated': [0, 0, 0, 0, 0, at_risk_pop-vax_overall],
            }

        # Put dictionary into a DataFrame
        df = pd.DataFrame(data=d)

        # Create columns for IRR and VE
        df['IRR'] = (unvax_case_overall/(at_risk_pop-vax_overall) / (df['Vaccinated Cases']/df['Vaccinated']))
        # Instead of all vaccinated cases, count # weeks have been vaccinated.  
        df['VE'] = 1 - (1 / df['IRR'])
        df['at_risk_pop'] = at_risk_pop
        
        # Add a new column with the last_date value used
        df['Date'] = date
        
        df_hold = pd.concat([df, df_hold])
  File "<ipython-input-95-cbdee9569a1e>", line 64
    and last date
      ^
SyntaxError: invalid syntax
df
ROA	Vaccinated Cases	Unvaccinated Cases	Vaccinated	Unvaccinated	IRR	VE	at_risk_pop	Date
0	SQ1	185	0	19719	0	0.895058	-0.117245	700000	2023-01-05
1	SQ2	10	0	5134	0	4.311160	0.768044	700000	2023-01-05
2	ID1	100	0	20983	0	1.762000	0.432463	700000	2023-01-05
3	ID2	3	0	21039	0	58.890071	0.983019	700000	2023-01-05
4	SQID	17	0	35550	0	17.560178	0.943053	700000	2023-01-05
5	Overall	315	5018	102425	597575	2.730446	0.633760	700000	2023-01-05
df_hold.loc[df_hold['Date'] >= '2022-10-02'].head(10)
ROA	Vaccinated Cases	Unvaccinated Cases	Vaccinated	Unvaccinated	IRR	VE	at_risk_pop	Date
0	SQ1	185	0	19719	0	0.895058	-0.117245	700000	2023-01-05
1	SQ2	10	0	5134	0	4.311160	0.768044	700000	2023-01-05
2	ID1	100	0	20983	0	1.762000	0.432463	700000	2023-01-05
3	ID2	3	0	21039	0	58.890071	0.983019	700000	2023-01-05
4	SQID	17	0	35550	0	17.560178	0.943053	700000	2023-01-05
5	Overall	315	5018	102425	597575	2.730446	0.633760	700000	2023-01-05
0	SQ1	185	0	19719	0	0.895058	-0.117245	700000	2022-12-29
1	SQ2	10	0	5134	0	4.311160	0.768044	700000	2022-12-29
2	ID1	100	0	20983	0	1.762000	0.432463	700000	2022-12-29
3	ID2	3	0	21039	0	58.890071	0.983019	700000	2022-12-29
hv.Curve(
    data=df_hold.loc[df_hold['Date'] >= '2022-10-02'],
    kdims=['Date', 'VE'],
).groupby(
    'ROA'
).overlay(
    'ROA'
).opts(
    legend_position='right',
    height=300,
    width=800,
)
